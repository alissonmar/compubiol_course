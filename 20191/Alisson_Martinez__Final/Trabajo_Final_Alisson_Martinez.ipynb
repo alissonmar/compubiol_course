{
 "cells": [
  {
   "cell_type": "markdown",
   "metadata": {},
   "source": [
    "# *Escherichia coli* genomic assembly\n",
    "## Alisson Juliana Martínez Acevedo\n",
    "Biology-EAFIT University"
   ]
  },
  {
   "cell_type": "markdown",
   "metadata": {},
   "source": [
    "# Abstract"
   ]
  },
  {
   "cell_type": "markdown",
   "metadata": {},
   "source": [
    "<div class=text-justify>After the first method of DNA sequencing, new sequencing technologies are being created since 1975 to generate more data in less time and in a cheapper way. Likewise, the procedures by which all this data is assembly and understand, varies according the data type and its characteristics. In this work, reads of *Escherichia coli* were assembly and evaluated to prove which is the best K-mer value that can show a better number of annotations present in the genome and if the quality of the genomic assemblage changes thanks to the k-mer tested. As a result there are more annotations with K-mer 77 but the quality of the genomic assembly is essencially the same for k-mer values 33, 55 and 77, while 21 was the only different k-mer that reduced the quality of the assembly. When studies like this are being worked, is important to choose the correct bioinformatic tool to understand correctly what data has to say.<br />"
   ]
  },
  {
   "cell_type": "markdown",
   "metadata": {},
   "source": [
    "# Indroduction"
   ]
  },
  {
   "attachments": {},
   "cell_type": "markdown",
   "metadata": {},
   "source": [
    "<div class=text-justify> Since the first close up to sequencing DNA realized by Federick Sanger (1975) [1], the technology has advanced until nowaday we know  it as third generation of sequencing [2]. Nevertheless, to process and analyze the data obtained from DNA, is necessariesary the employment of bioinformatic tools that allow an efficient manipulation of the growing quantity of information; for this reason, the assembly of reads that are the results of sequencing, has already evolved too [2].<br />\n",
    "\n",
    "\n",
    "<div class=text-justify> A genomic assembly, is the process in which a nucleotide sequence is figured out from short DNA fragments (reads). The strategies to carry out the assembly can be divided into two cathegories: comparative assembly, in which a reference genome is used; and novo assembly, where only the information shows in the sequencing reads is utilazed to rebuild an specific genome without having previous knowing about it [3]. In a geneal way, thera are four steps required to assambly a genome: (i) quality conrol and correction of mistakes in data ; (ii) assembly; (iii) assessment of the assembly quality; (iV) genome termination [2]. <br />\n",
    "\n",
    "\n",
    "<div class=text-justify> The quality conrol of raw data serves as a quick check in to identify and exclude data with serious quality problmes, this is important beacuse doing this stemp the investigator does not need to spend many time in posterior data analysis [2]. Moreover, there are many metodologies to realized genomic assamblies like use of Greedy, Overlap-layout-consensus (OLC) and Bruijn graphs [4], which consists in model the relationship between exact substrings of length k withing the reads. The nodes in the graph represent k-mers, and the connectors indicate that adjacent k-mers overlap by k-1 letters, so that the length of the k-mer correlates with the length of the overlap that the assembler is able to detect. In this methodology, the reads are not modeled directly, but are implicitly represented by the connectors in the Bruijn graph. Most assemblers use the global information of the reads to refine the structure of the graph, solve repetitions and eliminate inconsistent patterns. In addition, they incorporate error correction methods to improve assembly quality [2]. <br />\n",
    "\n",
    "<div class=text-justify>The ultimate goal of de novo assemblage is to obtain a quantity of fragments equal to the total number of chromosomes, in the case of bacteria a chromosome, and there may also be plasmids that are obtained as separate fragments. Therefore, the researcher always seeks to obtain as few contigs (gap-less assembled sequence) as possible. Likewise, there are some metric indicators that allow to evaluate the assembly quality quantitatively. The minimum, maximum and average size of the contigs are usually calculated, as well as the total size of the assembly, which must coincide with the expected size of the genome [4].<br />\n",
    "\n",
    "<div class=text-justify> The process of terminating the genome is the step that consumes the most time in sequencing. Many times it is also associated with the closing process of gaps, but it is essentially dedicated to correcting the errors that remained in the assembly, and sequencing mistakes. The in silico methods used during the termination phase of the genome considerably increase the possibility of closing the genome, but even so, when gaps remain between the contigs, or the connections between them are ambiguous, and only laboratory techniques can help [5] [6]. On the other hand, after a successful genome assemblage, the next challenge is to interpret the information it contains. For this, it is necessary to identify the main characteristics of the genome, this process is known as annotation, and comprises two fundamental stages: the structural annotation (prediction of coding regions) and the functional annotation (assignment of biological information to previously predicted genes) [2]. Acording with the previous information, the aim of this project is generar a well genomic assembly using reads from *E. coli*, an enterobacteria known to be a biological model and whose genome was sequenced for fist time in 1997. I want to seek  the annotations from the best k-mers tested and afterwards prove if the quality of the genomic assembly was successful.<br />\n",
    "    "
   ]
  },
  {
   "cell_type": "markdown",
   "metadata": {},
   "source": [
    "# Methodology"
   ]
  },
  {
   "cell_type": "markdown",
   "metadata": {},
   "source": [
    "<div class=text-justify>\n",
    "The entire data set used in this genomic assembly, came in form of a fastq file from a second generation Illumina sequencing of *E. coli*. This fastq file was given by Luis Alfonso Arteaga, who previously had orginized the forward and reverse sequences. After the  trimmomatric process done by Arteaga, I followed a pipeline frame in which the results obtined in the assembly was the input of the next process.<br />\n",
    "    \n",
    "The genomic assembly was realized in Linux, an operating system in which SPAdes was able to be downloaded and ran,then each K-mer used was tested by Prokka and afterward the Prokka resuls of each K-mer was analyzed using BUSCO to enerobacteriales_odb9.\n",
    "    "
   ]
  },
  {
   "cell_type": "markdown",
   "metadata": {},
   "source": [
    "# Results"
   ]
  },
  {
   "cell_type": "markdown",
   "metadata": {},
   "source": [
    "<div class=text-justify>\n",
    "After installing SPAdes, I ran the command line: spades.py -k 21,33,55,77 --careful --only-assembler <your reads> -o spades_output, where the part that says 'your reads' corresponds to the name of the fastq file and 'spades_output' is the name of the output file. As a first result, I ontained the N50 (the average size of the scaffolds) and sum (the total number of bases) that were 40468 and 4540150 respectively (see image 1).<br />\n",
    "    "
   ]
  },
  {
   "cell_type": "markdown",
   "metadata": {},
   "source": [
    "![N50](N50.PNG)\n",
    "### Image 2. Results of N50 (the average size of the scaffolds) and sum (the total number of bases) of the ensamble done with Escherichia coli."
   ]
  },
  {
   "cell_type": "markdown",
   "metadata": {},
   "source": [
    "<div class=text-justify>\n",
    "The numbers 21, 33, 55, and 77 represent the k-mers used in the assembly of contigs. On the other hand, the Prokka test that is shown below (image 2) represents the number of annotations per k-mer used. Then, those annotations were assessed in BUSCO comparing possible orthologs in enterobacteriales_odb9 (image 3).<br />\n",
    "    "
   ]
  },
  {
   "cell_type": "markdown",
   "metadata": {},
   "source": [
    "![1](1.PNG)\n",
    "### Image 2: Results of the Prokka test: Each number corresponds to the number of annotations found for each k-mer."
   ]
  },
  {
   "cell_type": "markdown",
   "metadata": {},
   "source": [
    "![busco](busco.PNG)\n",
    "\n",
    "### Image 3:  BUSCO assessment results: in the axis x there is the percentage of BUSCO for each K-mer (axis y).  The colours correspond to genes completes (C) and single copy (S) in blue; completes (C) and duplicated (D) in dark blue;  Fragmented (F) in yellow and missing (M) in red acorrding to the comparison done with the orthologs of enterobacteriales_odb9. Furthermore, the scaffolds represent the total of contigs."
   ]
  },
  {
   "cell_type": "markdown",
   "metadata": {},
   "source": [
    "# Analysis of results"
   ]
  },
  {
   "cell_type": "markdown",
   "metadata": {},
   "source": [
    "<div class=text-justify> SPAdes - St. Petersburg genome assembler - is an assembly toolkit containing various assembly pipelines. It works with Illumina or IonTorrent reads and is capable of providing hybrid assemblies using PacBio, Oxford Nanopore and Sanger reads. It can also provide additional contigs that will be used as long reads [7]. Thera are many essamblers currently like EULER-SR, IDBA, SOAPdenovo, Velvet, Velvet-SC and  E+ V-;SC, but SPAdes was chosen because it was originally designed for small genomes, and it was also tested on bacterial (both single-cell MDA and standard isolates), fungal and other small genomes; it means that SPAdes is not intended for larger genomes (e.g., mammalian size genomes). In this specific case, I worked with *E. coli* genome that only has ~4.5Mb according with de results of the assembly. Being such a small genome, matches perfectly with the requires of SPAdes that works better in this kind of genomes. <br />\n",
    "    \n",
    "<div class=text-justify> As mentioned in the introduction, there are some indicators that allow to evaluate the assembly quality quantitatively; between those indicators, the main statistical value is the N50 value, which corresponds to the shortest length close to the average contigs set. In this case my  N50 (40468) is relativelly short compared with the size of the entire genome, that means that the size of the contigs are not out of normal, showing that the assembly was quite well. However, although the N50 value constitutes an indicator about the contiguity of the genome (i.e. how successful the assembly program was in joining the contiguous sequences in a single, longer sequence), it is not a signal of precision and quality of the assembled genome. Nor does it provide a correct estimate of whether the size of the assembly differs or not from the expected size [4]. For a better quality assessment, from the qualitative point of view, it is possible to carry out the alignment of the reads with the obtained contigs, but in this work, this evaluation was not made.  <br />\n",
    "\n",
    "<div class=text-justify> At the same way that there are many assemblers, there are many tools to annotate genomes. I especially chose Prokka because it is a software tool only to bacterial annotate, archaeal and viral genomes quickly and produces standards compliant output files [8]. All the k-mers was tested to prove which of them showed the major quantity of anotations. I consider this topic important because whole genome annotation is the process of identifying features of interest in a set of genomic DNA sequences, and labeling them with useful information. In this work, the labeling of the proteins are not shown; despite this, the total of annotations for each k-mer is shown in image 2, where is observed that the number for annotations varies between 4212, 4187, 4235 and 4246 to K-mer21 K-mer33, k-mer55 and k-mer77 respectively. Those K-mers came integrated by default in the command line used to make the assembly in SPAdes (see results). Apparently, the K-mer (any sequence of lenght k) that provides more informaton about the genes present in the genome of *E. Coli* is K-mer 77. <br />\n",
    "    \n",
    "    \n",
    "<div class=text-justify>BUSCO provides quantitative measures for the assessment of genome assembly, gene set, and transcriptome completeness, based on evolutionarily-informed expectations of gene content from near-universal single-copy orthologs selected from OrthoDB [9]. BUSCO assessments are implemented in open-source software, with a large selection of lineage-specific sets of Benchmarking Universal Single-Copy Orthologs. These conserved orthologs are ideal candidates for large-scale phylogenomics studies, and the annotated BUSCO gene models built during genome assessments provide a comprehensive gene predictor training set for use as part of genome annotation pipelines [9].<br />\n",
    "    \n",
    "<div class=text-justify> Each k-mer evaluated in Prokka was also tasted in Busco using enterobacteriales_odb9 data set to find ortholog sequences and determine which of them were completed (single or duplicated), fragmented or missing to mesure the genome assembly. As shown in image 3, only K-mer21 has 14 missing genes, 10 fragmented sequences and 757 completed sequences from which, just 756 were single and one duplicated. This result means that this k-mers does not consolid the best contigs to run the genomic assembly: However, the other K-mers present strong similarities to scaffolds (union of contig sequences and my contains gaps) indicating that whatever of them are suitable for generate a well assembly. <br />\n",
    "    "
   ]
  },
  {
   "cell_type": "markdown",
   "metadata": {},
   "source": [
    "# Conclusions"
   ]
  },
  {
   "cell_type": "markdown",
   "metadata": {},
   "source": [
    "<div class=text-justify> There are a well difined steps that must be followed to create a genomic assembly. However it is importan to choose the correct programs by which the process will be made because each type of data set is different, for this the methodologies change. It is also important to evaluate different k-mers values to determine which ones are the best to explain, in a great way, what the data says. On the other hand, the aim of the project was fulfilled becuause the best k-mer that shows the major number of annotations was k-mer 77 and only k-mer 21 reduces the quality of the genomic assembly done in this work. <br />"
   ]
  },
  {
   "cell_type": "markdown",
   "metadata": {},
   "source": [
    "# Cited references"
   ]
  },
  {
   "cell_type": "markdown",
   "metadata": {},
   "source": [
    "1. Quiroz Ibarra. J. (2018). *Ensamble de fragmentos de ADN usando métodos basados en Teoría de Grafos*. Universidad Iberoamericana.\n",
    "2. Aguilar-Bultet. L., & Falquet. L. (2015). Secuenciación y ensamblaje de novo de genomas bacterianos: una alternativa para el estudio de nuevos patógenos. *Revista de Salud Animal, 37*(2), 125–132. \n",
    "3. Wajid. B., & Serpedin. E. (2010). Review of general algorithmic features for genome assemblers for next generation sequencers. *Genomics Proteomics Bioinformatics, 10*(2),58-73.\n",
    "4. Nagarajan. N., & Pop. M. (2013). Sequence assembly demystified. *Nature Reviews Genetics, 14*(3), 157-167.\n",
    "5. Wang. Z., Ye. S., Li. J., Zheng. B., Bao. M., & Ning. G. (2011). Fusion primer and nested integrated PCR (FPNI-PCR): a new high-efficiency strategy for rapid chromosome walking or flanking sequence cloning. *BMC Biotechnology, 11*,109.\n",
    "6. Tettelin. H., Radune. D., Kasif. S., Khouri. H.,& Salzberg. S,L. (1997). Optimized multiplex PCR: efficiently closing a whole-genome shotgun sequencing project, *Genomics.62*(3):500-507.\n",
    "7. Bankevich. A., Nurk. S., Antipov. D., Gurevich. A. A., Dvorkin. M., Kulikov. A. S., Lesin. V. M., Nikolenko. S. I., Pham. S., Prjibelski. A. D., Pyshkin. A. D., Sirotkin. A. V., Vyahhi. N., Tesler. G., Alekseyev. M. A., & Pevzner, P. A. (2012). SPAdes: A New Genome Assembly Algorithm and Its Applications to Single-Cell Sequencing. *Journal of Computational Biology, 19*(5), 455–477.\n",
    "8. Seemann. T. (2014). Prokka: rapid prokaryotic genome annotation. Bioinformatics, 30(14):2068-9. PMID:2464206. Retrieved from https://github.com/tseemann/prokka\n",
    "9. Waterhouse. R. M., Seppey. M., Simão. F. A., Manni. M.,  Ioannidis. P., Klioutchnikov. G., Kriventseva. E. V., & Zdobnov. E. M. (2017).BUSCO applications from quality assessments to gene prediction and phylogenomics. *Molecular Biology and Evolution, 35*(3):543–548.\n",
    "\n"
   ]
  }
 ],
 "metadata": {
  "kernelspec": {
   "display_name": "Python 3",
   "language": "python",
   "name": "python3"
  },
  "language_info": {
   "codemirror_mode": {
    "name": "ipython",
    "version": 3
   },
   "file_extension": ".py",
   "mimetype": "text/x-python",
   "name": "python",
   "nbconvert_exporter": "python",
   "pygments_lexer": "ipython3",
   "version": "3.7.1"
  }
 },
 "nbformat": 4,
 "nbformat_minor": 2
}
